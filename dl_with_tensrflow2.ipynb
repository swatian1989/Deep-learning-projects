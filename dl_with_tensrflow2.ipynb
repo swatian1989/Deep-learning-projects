{
  "nbformat": 4,
  "nbformat_minor": 0,
  "metadata": {
    "colab": {
      "provenance": [],
      "authorship_tag": "ABX9TyMIOdOuqHkrsgDgf2L6NyhR",
      "include_colab_link": true
    },
    "kernelspec": {
      "name": "python3",
      "display_name": "Python 3"
    },
    "language_info": {
      "name": "python"
    }
  },
  "cells": [
    {
      "cell_type": "markdown",
      "metadata": {
        "id": "view-in-github",
        "colab_type": "text"
      },
      "source": [
        "<a href=\"https://colab.research.google.com/github/swatian1989/Deep-learning-projects/blob/main/dl_with_tensrflow2.ipynb\" target=\"_parent\"><img src=\"https://colab.research.google.com/assets/colab-badge.svg\" alt=\"Open In Colab\"/></a>"
      ]
    },
    {
      "cell_type": "code",
      "execution_count": null,
      "metadata": {
        "id": "M67XRmkxIBG6"
      },
      "outputs": [],
      "source": [
        "import tensorflow as tf"
      ]
    },
    {
      "cell_type": "code",
      "source": [
        "#load the fashion MNIST dataset\n",
        "fmnist =tf.keras.datasets.fashion_mnist"
      ],
      "metadata": {
        "id": "sJd9qoZrIjL5"
      },
      "execution_count": null,
      "outputs": []
    },
    {
      "cell_type": "code",
      "source": [
        "# load the training and test split of the fashion Mnist dataset\n",
        "(training_images, training_labels), (test_images, test_labels) = fmnist.load_data()"
      ],
      "metadata": {
        "colab": {
          "base_uri": "https://localhost:8080/"
        },
        "id": "Q4hDNePxJEDK",
        "outputId": "a071ec13-11f6-45e4-bc14-7695c27a8012"
      },
      "execution_count": null,
      "outputs": [
        {
          "output_type": "stream",
          "name": "stdout",
          "text": [
            "Downloading data from https://storage.googleapis.com/tensorflow/tf-keras-datasets/train-labels-idx1-ubyte.gz\n",
            "29515/29515 [==============================] - 0s 0us/step\n",
            "Downloading data from https://storage.googleapis.com/tensorflow/tf-keras-datasets/train-images-idx3-ubyte.gz\n",
            "26421880/26421880 [==============================] - 0s 0us/step\n",
            "Downloading data from https://storage.googleapis.com/tensorflow/tf-keras-datasets/t10k-labels-idx1-ubyte.gz\n",
            "5148/5148 [==============================] - 0s 0us/step\n",
            "Downloading data from https://storage.googleapis.com/tensorflow/tf-keras-datasets/t10k-images-idx3-ubyte.gz\n",
            "4422102/4422102 [==============================] - 0s 0us/step\n"
          ]
        }
      ]
    },
    {
      "cell_type": "code",
      "source": [
        "import numpy as np\n",
        "import matplotlib.pyplot as plt\n"
      ],
      "metadata": {
        "id": "OxU5fbY9K8ym"
      },
      "execution_count": null,
      "outputs": []
    },
    {
      "cell_type": "code",
      "source": [
        "#you can put between 0 to 59999\n",
        "index = 5000\n",
        "#set number of cahracters per row when printing\n",
        "np.set_printoptions(linewidth=320)\n",
        "# print the labels and image\n",
        "print(f'LABEL:{training_labels[index]}')\n",
        "print(f'\\nIMAGE PIXEL ARRAY:\\n {training_images[index]}')\n",
        "\n",
        "# visualization\n",
        "plt.imshow(training_images[index])\n"
      ],
      "metadata": {
        "colab": {
          "base_uri": "https://localhost:8080/",
          "height": 820
        },
        "id": "bWY6s_5MLEx2",
        "outputId": "320e8ec4-7f8e-4013-aea7-c2c80db41946"
      },
      "execution_count": null,
      "outputs": [
        {
          "output_type": "stream",
          "name": "stdout",
          "text": [
            "LABEL:4\n",
            "\n",
            "IMAGE PIXEL ARRAY:\n",
            " [[  0   0   0   0   0   0   0   0   0   0   0   0   0   0   0   0   0   0   0   1   0   0   0   0   0   0   0   0]\n",
            " [  0   0   0   0   0   0   0   0   0   0   0  44 127 182 185 161 120  55   0   0   0   0   0   0   0   0   0   0]\n",
            " [  0   0   0   0   0   0   0   0   0  42 198 251 255 251 249 247 255 252 214 100   0   0   0   0   0   0   0   0]\n",
            " [  0   0   0   0   0   0   2   0   0 233 252 237 239 234 237 235 237 237 254 227   0   0   0   0   1   0   0   0]\n",
            " [  0   0   0   0   0   2   0   0  16 210 225 215 175 217 216 193 196 226 221 209  50   0   0   2   0   0   0   0]\n",
            " [  0   0   0   0   2   0   0 199 229 232 230 245 204 219 253 245 207 194 223 231 236 235   0   0   3   0   0   0]\n",
            " [  0   0   0   0   1   0 137 235 204 209 201 209 234 190 234 218 215 238 239 204 189 224 154   0   0   0   0   0]\n",
            " [  0   0   0   0   0   0 194 201 200 209 202 193 205 194 183 218 231 197 172 181 193 205 199   0   0   0   0   0]\n",
            " [  0   0   0   0   0   3 212 203 188 189 196 198 198 201 196 217 179 167 183 217 197 202 219  30   0   0   0   0]\n",
            " [  0   0   0   0   0  34 225 200 194 190 188 192 196 192 170 202 190 201 195 200 201 209 227  50   0   0   0   0]\n",
            " [  0   0   0   0   0  68 225 210 211 198 192 196 204 196 181 212 197 195 192 206 220 210 229  93   0   0   0   0]\n",
            " [  0   0   0   0   0 111 223 227 253 209 196 204 211 206 183 216 206 210 203 215 244 224 227 150   0   0   0   0]\n",
            " [  0   0   0   0   0 139 225 224 255 202 206 212 209 211 190 213 202 207 206 222 255 230 220 190   0   0   0   0]\n",
            " [  0   0   0   0   0 180 226 224 255 199 204 207 214 214 190 216 206 203 205 219 243 224 214 234   0   0   0   0]\n",
            " [  0   0   0   0   0 225 223 228 254 209 206 208 213 210 191 215 207 204 208 211 249 226 214 255  38   0   0   0]\n",
            " [  0   0   0   0   0 250 232 240 239 211 203 209 205 211 197 215 208 208 214 213 239 231 219 255  81   0   0   0]\n",
            " [  0   0   0   0   0 248 236 247 240 203 200 208 206 214 193 213 212 208 212 211 243 242 225 254  66   0   0   0]\n",
            " [  0   0   0   0   0 247 230 252 226 199 211 202 211 213 182 213 212 206 202 219 207 247 222 237 104   0   0   0]\n",
            " [  0   0   0   0  10 244 219 250 205 199 209 202 209 211 189 214 206 210 200 212 154 240 208 219 140   0   0   0]\n",
            " [  0   0   0   0  21 255 222 238 184 210 192 206 209 210 189 213 211 209 192 228 155 226 238 241 166   0   0   0]\n",
            " [  0   0   0   0  37 245 226 241 150 197 189 204 209 210 183 213 213 201 184 215 146 216 236 225 154   0   0   0]\n",
            " [  0   0   0   0  58 239 227 255 158 193 195 204 209 213 180 207 217 199 194 211 158 219 236 216 151   0   0   0]\n",
            " [  0   0   0   0  68 233 226 243 139 200 193 205 210 208 180 205 212 203 196 216 157 179 255 216 155   0   0   0]\n",
            " [  0   0   0   0  81 225 224 211 138 219 185 201 213 207 197 226 212 200 190 215 183  90 255 211 147   0   0   0]\n",
            " [  0   0   0   0  91 210 230 158 114 205 187 208 209 206 193 210 211 204 195 204 181  23 255 213 158   0   0   0]\n",
            " [  0   0   0   0  87 205 232 109 164 255 214 224 222 210 197 214 225 222 211 220 217   0 234 216 169   0   0   0]\n",
            " [  0   0   0   0  92 213 232 146   5 134 151 162 170 183 182 164 166 178 162 156  98   0 240 225 210   0   0   0]\n",
            " [  0   0   0   0  43 164 206 141   0   0   0   0   0   0   0   0   0   0   0   0   0   0 127 125  76   0   0   0]]\n"
          ]
        },
        {
          "output_type": "execute_result",
          "data": {
            "text/plain": [
              "<matplotlib.image.AxesImage at 0x7f4803a33b20>"
            ]
          },
          "metadata": {},
          "execution_count": 5
        },
        {
          "output_type": "display_data",
          "data": {
            "text/plain": [
              "<Figure size 432x288 with 1 Axes>"
            ],
            "image/png": "[encoded data removed]"
          },
          "metadata": {
            "needs_background": "light"
          }
        }
      ]
    },
    {
      "cell_type": "code",
      "source": [],
      "metadata": {
        "id": "04-w592OQ5B9"
      },
      "execution_count": null,
      "outputs": []
    }
  ]
}